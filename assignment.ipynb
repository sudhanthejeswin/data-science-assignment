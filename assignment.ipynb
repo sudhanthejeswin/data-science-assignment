{
 "cells": [
  {
   "cell_type": "code",
   "execution_count": 1,
   "id": "5bc82c4a-f27b-462e-8a8a-6f1d85157161",
   "metadata": {},
   "outputs": [],
   "source": [
    "import pandas as pd\n"
   ]
  },
  {
   "cell_type": "code",
   "execution_count": 5,
   "id": "a0cd63ee-a86a-4db7-bd28-a861db17d49a",
   "metadata": {},
   "outputs": [],
   "source": [
    "dataset=pd.read_csv(\"PrePlacement.csv\")\n"
   ]
  },
  {
   "cell_type": "code",
   "execution_count": 7,
   "id": "2c20c53c-faa8-4896-9abe-708fa0dcae2d",
   "metadata": {},
   "outputs": [
    {
     "data": {
      "text/html": [
       "<div>\n",
       "<style scoped>\n",
       "    .dataframe tbody tr th:only-of-type {\n",
       "        vertical-align: middle;\n",
       "    }\n",
       "\n",
       "    .dataframe tbody tr th {\n",
       "        vertical-align: top;\n",
       "    }\n",
       "\n",
       "    .dataframe thead th {\n",
       "        text-align: right;\n",
       "    }\n",
       "</style>\n",
       "<table border=\"1\" class=\"dataframe\">\n",
       "  <thead>\n",
       "    <tr style=\"text-align: right;\">\n",
       "      <th></th>\n",
       "      <th>sl_no</th>\n",
       "      <th>gender</th>\n",
       "      <th>ssc_p</th>\n",
       "      <th>ssc_b</th>\n",
       "      <th>hsc_p</th>\n",
       "      <th>hsc_b</th>\n",
       "      <th>hsc_s</th>\n",
       "      <th>degree_p</th>\n",
       "      <th>degree_t</th>\n",
       "      <th>workex</th>\n",
       "      <th>etest_p</th>\n",
       "      <th>specialisation</th>\n",
       "      <th>mba_p</th>\n",
       "      <th>status</th>\n",
       "      <th>salary</th>\n",
       "    </tr>\n",
       "  </thead>\n",
       "  <tbody>\n",
       "    <tr>\n",
       "      <th>0</th>\n",
       "      <td>1</td>\n",
       "      <td>M</td>\n",
       "      <td>67.00</td>\n",
       "      <td>Others</td>\n",
       "      <td>91.00</td>\n",
       "      <td>Others</td>\n",
       "      <td>Commerce</td>\n",
       "      <td>58.00</td>\n",
       "      <td>Sci&amp;Tech</td>\n",
       "      <td>No</td>\n",
       "      <td>55.0</td>\n",
       "      <td>Mkt&amp;HR</td>\n",
       "      <td>58.80</td>\n",
       "      <td>Placed</td>\n",
       "      <td>270000.0</td>\n",
       "    </tr>\n",
       "    <tr>\n",
       "      <th>1</th>\n",
       "      <td>2</td>\n",
       "      <td>M</td>\n",
       "      <td>79.33</td>\n",
       "      <td>Central</td>\n",
       "      <td>78.33</td>\n",
       "      <td>Others</td>\n",
       "      <td>Science</td>\n",
       "      <td>77.48</td>\n",
       "      <td>Sci&amp;Tech</td>\n",
       "      <td>Yes</td>\n",
       "      <td>86.5</td>\n",
       "      <td>Mkt&amp;Fin</td>\n",
       "      <td>66.28</td>\n",
       "      <td>Placed</td>\n",
       "      <td>200000.0</td>\n",
       "    </tr>\n",
       "    <tr>\n",
       "      <th>2</th>\n",
       "      <td>3</td>\n",
       "      <td>M</td>\n",
       "      <td>65.00</td>\n",
       "      <td>Central</td>\n",
       "      <td>68.00</td>\n",
       "      <td>Central</td>\n",
       "      <td>Arts</td>\n",
       "      <td>64.00</td>\n",
       "      <td>Comm&amp;Mgmt</td>\n",
       "      <td>No</td>\n",
       "      <td>75.0</td>\n",
       "      <td>Mkt&amp;Fin</td>\n",
       "      <td>57.80</td>\n",
       "      <td>Placed</td>\n",
       "      <td>250000.0</td>\n",
       "    </tr>\n",
       "    <tr>\n",
       "      <th>3</th>\n",
       "      <td>4</td>\n",
       "      <td>M</td>\n",
       "      <td>56.00</td>\n",
       "      <td>Central</td>\n",
       "      <td>52.00</td>\n",
       "      <td>Central</td>\n",
       "      <td>Science</td>\n",
       "      <td>52.00</td>\n",
       "      <td>Sci&amp;Tech</td>\n",
       "      <td>No</td>\n",
       "      <td>66.0</td>\n",
       "      <td>Mkt&amp;HR</td>\n",
       "      <td>59.43</td>\n",
       "      <td>Not Placed</td>\n",
       "      <td>0.0</td>\n",
       "    </tr>\n",
       "    <tr>\n",
       "      <th>4</th>\n",
       "      <td>5</td>\n",
       "      <td>M</td>\n",
       "      <td>85.80</td>\n",
       "      <td>Central</td>\n",
       "      <td>73.60</td>\n",
       "      <td>Central</td>\n",
       "      <td>Commerce</td>\n",
       "      <td>73.30</td>\n",
       "      <td>Comm&amp;Mgmt</td>\n",
       "      <td>No</td>\n",
       "      <td>96.8</td>\n",
       "      <td>Mkt&amp;Fin</td>\n",
       "      <td>55.50</td>\n",
       "      <td>Placed</td>\n",
       "      <td>425000.0</td>\n",
       "    </tr>\n",
       "    <tr>\n",
       "      <th>...</th>\n",
       "      <td>...</td>\n",
       "      <td>...</td>\n",
       "      <td>...</td>\n",
       "      <td>...</td>\n",
       "      <td>...</td>\n",
       "      <td>...</td>\n",
       "      <td>...</td>\n",
       "      <td>...</td>\n",
       "      <td>...</td>\n",
       "      <td>...</td>\n",
       "      <td>...</td>\n",
       "      <td>...</td>\n",
       "      <td>...</td>\n",
       "      <td>...</td>\n",
       "      <td>...</td>\n",
       "    </tr>\n",
       "    <tr>\n",
       "      <th>210</th>\n",
       "      <td>211</td>\n",
       "      <td>M</td>\n",
       "      <td>80.60</td>\n",
       "      <td>Others</td>\n",
       "      <td>82.00</td>\n",
       "      <td>Others</td>\n",
       "      <td>Commerce</td>\n",
       "      <td>77.60</td>\n",
       "      <td>Comm&amp;Mgmt</td>\n",
       "      <td>No</td>\n",
       "      <td>91.0</td>\n",
       "      <td>Mkt&amp;Fin</td>\n",
       "      <td>74.49</td>\n",
       "      <td>Placed</td>\n",
       "      <td>400000.0</td>\n",
       "    </tr>\n",
       "    <tr>\n",
       "      <th>211</th>\n",
       "      <td>212</td>\n",
       "      <td>M</td>\n",
       "      <td>58.00</td>\n",
       "      <td>Others</td>\n",
       "      <td>60.00</td>\n",
       "      <td>Others</td>\n",
       "      <td>Science</td>\n",
       "      <td>72.00</td>\n",
       "      <td>Sci&amp;Tech</td>\n",
       "      <td>No</td>\n",
       "      <td>74.0</td>\n",
       "      <td>Mkt&amp;Fin</td>\n",
       "      <td>53.62</td>\n",
       "      <td>Placed</td>\n",
       "      <td>275000.0</td>\n",
       "    </tr>\n",
       "    <tr>\n",
       "      <th>212</th>\n",
       "      <td>213</td>\n",
       "      <td>M</td>\n",
       "      <td>67.00</td>\n",
       "      <td>Others</td>\n",
       "      <td>67.00</td>\n",
       "      <td>Others</td>\n",
       "      <td>Commerce</td>\n",
       "      <td>73.00</td>\n",
       "      <td>Comm&amp;Mgmt</td>\n",
       "      <td>Yes</td>\n",
       "      <td>59.0</td>\n",
       "      <td>Mkt&amp;Fin</td>\n",
       "      <td>69.72</td>\n",
       "      <td>Placed</td>\n",
       "      <td>295000.0</td>\n",
       "    </tr>\n",
       "    <tr>\n",
       "      <th>213</th>\n",
       "      <td>214</td>\n",
       "      <td>F</td>\n",
       "      <td>74.00</td>\n",
       "      <td>Others</td>\n",
       "      <td>66.00</td>\n",
       "      <td>Others</td>\n",
       "      <td>Commerce</td>\n",
       "      <td>58.00</td>\n",
       "      <td>Comm&amp;Mgmt</td>\n",
       "      <td>No</td>\n",
       "      <td>70.0</td>\n",
       "      <td>Mkt&amp;HR</td>\n",
       "      <td>60.23</td>\n",
       "      <td>Placed</td>\n",
       "      <td>204000.0</td>\n",
       "    </tr>\n",
       "    <tr>\n",
       "      <th>214</th>\n",
       "      <td>215</td>\n",
       "      <td>M</td>\n",
       "      <td>62.00</td>\n",
       "      <td>Central</td>\n",
       "      <td>58.00</td>\n",
       "      <td>Others</td>\n",
       "      <td>Science</td>\n",
       "      <td>53.00</td>\n",
       "      <td>Comm&amp;Mgmt</td>\n",
       "      <td>No</td>\n",
       "      <td>89.0</td>\n",
       "      <td>Mkt&amp;HR</td>\n",
       "      <td>60.22</td>\n",
       "      <td>Not Placed</td>\n",
       "      <td>0.0</td>\n",
       "    </tr>\n",
       "  </tbody>\n",
       "</table>\n",
       "<p>215 rows × 15 columns</p>\n",
       "</div>"
      ],
      "text/plain": [
       "     sl_no gender  ssc_p    ssc_b  hsc_p    hsc_b     hsc_s  degree_p  \\\n",
       "0        1      M  67.00   Others  91.00   Others  Commerce     58.00   \n",
       "1        2      M  79.33  Central  78.33   Others   Science     77.48   \n",
       "2        3      M  65.00  Central  68.00  Central      Arts     64.00   \n",
       "3        4      M  56.00  Central  52.00  Central   Science     52.00   \n",
       "4        5      M  85.80  Central  73.60  Central  Commerce     73.30   \n",
       "..     ...    ...    ...      ...    ...      ...       ...       ...   \n",
       "210    211      M  80.60   Others  82.00   Others  Commerce     77.60   \n",
       "211    212      M  58.00   Others  60.00   Others   Science     72.00   \n",
       "212    213      M  67.00   Others  67.00   Others  Commerce     73.00   \n",
       "213    214      F  74.00   Others  66.00   Others  Commerce     58.00   \n",
       "214    215      M  62.00  Central  58.00   Others   Science     53.00   \n",
       "\n",
       "      degree_t workex  etest_p specialisation  mba_p      status    salary  \n",
       "0     Sci&Tech     No     55.0         Mkt&HR  58.80      Placed  270000.0  \n",
       "1     Sci&Tech    Yes     86.5        Mkt&Fin  66.28      Placed  200000.0  \n",
       "2    Comm&Mgmt     No     75.0        Mkt&Fin  57.80      Placed  250000.0  \n",
       "3     Sci&Tech     No     66.0         Mkt&HR  59.43  Not Placed       0.0  \n",
       "4    Comm&Mgmt     No     96.8        Mkt&Fin  55.50      Placed  425000.0  \n",
       "..         ...    ...      ...            ...    ...         ...       ...  \n",
       "210  Comm&Mgmt     No     91.0        Mkt&Fin  74.49      Placed  400000.0  \n",
       "211   Sci&Tech     No     74.0        Mkt&Fin  53.62      Placed  275000.0  \n",
       "212  Comm&Mgmt    Yes     59.0        Mkt&Fin  69.72      Placed  295000.0  \n",
       "213  Comm&Mgmt     No     70.0         Mkt&HR  60.23      Placed  204000.0  \n",
       "214  Comm&Mgmt     No     89.0         Mkt&HR  60.22  Not Placed       0.0  \n",
       "\n",
       "[215 rows x 15 columns]"
      ]
     },
     "execution_count": 7,
     "metadata": {},
     "output_type": "execute_result"
    }
   ],
   "source": [
    "dataset"
   ]
  },
  {
   "cell_type": "code",
   "execution_count": null,
   "id": "7be9769f-8877-42b5-9eb6-4b5ca46768f3",
   "metadata": {},
   "outputs": [],
   "source": [
    "#1 NaN values\n",
    "Numerical data: Replace NaN with the column mean or median\n",
    "Categorical data: Replace NaN with the mode "
   ]
  },
  {
   "cell_type": "code",
   "execution_count": 123,
   "id": "078a58a6-c287-40f6-a86e-75b12c691339",
   "metadata": {},
   "outputs": [
    {
     "name": "stdout",
     "output_type": "stream",
     "text": [
      "Number of individuals not placed: 67.\n"
     ]
    }
   ],
   "source": [
    "#2 not placed\n",
    "not_placed_count = dataset['status'].value_counts().get('Not Placed', 0)\n",
    "print(f\"Number of individuals not placed: {not_placed_count}.\")"
   ]
  },
  {
   "cell_type": "code",
   "execution_count": null,
   "id": "d4f0ea71-fc06-49f9-84e0-9b4d557d415b",
   "metadata": {},
   "outputs": [],
   "source": [
    "#3 reason for not placed\n",
    "here is the reason data is insufficient here. we can predict the reason for the not placed."
   ]
  },
  {
   "cell_type": "code",
   "execution_count": 127,
   "id": "6f45eede-a3fb-4cf5-a38e-a9ae5696d4d9",
   "metadata": {},
   "outputs": [
    {
     "data": {
      "text/html": [
       "<div>\n",
       "<style scoped>\n",
       "    .dataframe tbody tr th:only-of-type {\n",
       "        vertical-align: middle;\n",
       "    }\n",
       "\n",
       "    .dataframe tbody tr th {\n",
       "        vertical-align: top;\n",
       "    }\n",
       "\n",
       "    .dataframe thead th {\n",
       "        text-align: right;\n",
       "    }\n",
       "</style>\n",
       "<table border=\"1\" class=\"dataframe\">\n",
       "  <thead>\n",
       "    <tr style=\"text-align: right;\">\n",
       "      <th></th>\n",
       "      <th>sl_no</th>\n",
       "      <th>ssc_p</th>\n",
       "      <th>hsc_p</th>\n",
       "      <th>degree_p</th>\n",
       "      <th>etest_p</th>\n",
       "      <th>mba_p</th>\n",
       "      <th>salary</th>\n",
       "    </tr>\n",
       "  </thead>\n",
       "  <tbody>\n",
       "    <tr>\n",
       "      <th>sl_no</th>\n",
       "      <td>3870.000000</td>\n",
       "      <td>-52.641355</td>\n",
       "      <td>-59.598879</td>\n",
       "      <td>-41.465047</td>\n",
       "      <td>52.556168</td>\n",
       "      <td>8.102336</td>\n",
       "      <td>1.138318e+04</td>\n",
       "    </tr>\n",
       "    <tr>\n",
       "      <th>ssc_p</th>\n",
       "      <td>-52.641355</td>\n",
       "      <td>117.228377</td>\n",
       "      <td>58.853253</td>\n",
       "      <td>42.702550</td>\n",
       "      <td>37.659225</td>\n",
       "      <td>24.535952</td>\n",
       "      <td>9.088585e+05</td>\n",
       "    </tr>\n",
       "    <tr>\n",
       "      <th>hsc_p</th>\n",
       "      <td>-59.598879</td>\n",
       "      <td>58.853253</td>\n",
       "      <td>112.063731</td>\n",
       "      <td>33.684453</td>\n",
       "      <td>33.838355</td>\n",
       "      <td>21.517688</td>\n",
       "      <td>7.310079e+05</td>\n",
       "    </tr>\n",
       "    <tr>\n",
       "      <th>degree_p</th>\n",
       "      <td>-41.465047</td>\n",
       "      <td>42.702550</td>\n",
       "      <td>33.684453</td>\n",
       "      <td>53.604710</td>\n",
       "      <td>22.078774</td>\n",
       "      <td>17.185200</td>\n",
       "      <td>4.663363e+05</td>\n",
       "    </tr>\n",
       "    <tr>\n",
       "      <th>etest_p</th>\n",
       "      <td>52.556168</td>\n",
       "      <td>37.659225</td>\n",
       "      <td>33.838355</td>\n",
       "      <td>22.078774</td>\n",
       "      <td>176.251018</td>\n",
       "      <td>16.886973</td>\n",
       "      <td>3.727004e+05</td>\n",
       "    </tr>\n",
       "    <tr>\n",
       "      <th>mba_p</th>\n",
       "      <td>8.102336</td>\n",
       "      <td>24.535952</td>\n",
       "      <td>21.517688</td>\n",
       "      <td>17.185200</td>\n",
       "      <td>16.886973</td>\n",
       "      <td>34.028376</td>\n",
       "      <td>1.239934e+05</td>\n",
       "    </tr>\n",
       "    <tr>\n",
       "      <th>salary</th>\n",
       "      <td>11383.177570</td>\n",
       "      <td>908858.485818</td>\n",
       "      <td>731007.850848</td>\n",
       "      <td>466336.264888</td>\n",
       "      <td>372700.449468</td>\n",
       "      <td>123993.387361</td>\n",
       "      <td>2.259185e+10</td>\n",
       "    </tr>\n",
       "  </tbody>\n",
       "</table>\n",
       "</div>"
      ],
      "text/plain": [
       "                 sl_no          ssc_p          hsc_p       degree_p  \\\n",
       "sl_no      3870.000000     -52.641355     -59.598879     -41.465047   \n",
       "ssc_p       -52.641355     117.228377      58.853253      42.702550   \n",
       "hsc_p       -59.598879      58.853253     112.063731      33.684453   \n",
       "degree_p    -41.465047      42.702550      33.684453      53.604710   \n",
       "etest_p      52.556168      37.659225      33.838355      22.078774   \n",
       "mba_p         8.102336      24.535952      21.517688      17.185200   \n",
       "salary    11383.177570  908858.485818  731007.850848  466336.264888   \n",
       "\n",
       "                etest_p          mba_p        salary  \n",
       "sl_no         52.556168       8.102336  1.138318e+04  \n",
       "ssc_p         37.659225      24.535952  9.088585e+05  \n",
       "hsc_p         33.838355      21.517688  7.310079e+05  \n",
       "degree_p      22.078774      17.185200  4.663363e+05  \n",
       "etest_p      176.251018      16.886973  3.727004e+05  \n",
       "mba_p         16.886973      34.028376  1.239934e+05  \n",
       "salary    372700.449468  123993.387361  2.259185e+10  "
      ]
     },
     "execution_count": 127,
     "metadata": {},
     "output_type": "execute_result"
    }
   ],
   "source": [
    "#4 kindofrelation\n",
    "dataset.cov(numeric_only = True)"
   ]
  },
  {
   "cell_type": "code",
   "execution_count": null,
   "id": "8c26162a-6c05-4f9f-8e84-fa5b27e1d4cb",
   "metadata": {},
   "outputs": [],
   "source": [
    "The covariance between mba_p and salary in dataset is 123993.387361. \n",
    "Since this value is positive, it indicates a positive covariance.\n",
    "This means that as mba_p performance in the MBA increases, salary tends to increase as well."
   ]
  },
  {
   "cell_type": "code",
   "execution_count": 129,
   "id": "59e47194-94ae-47d2-8165-8b235f01aec6",
   "metadata": {},
   "outputs": [
    {
     "data": {
      "text/html": [
       "<div>\n",
       "<style scoped>\n",
       "    .dataframe tbody tr th:only-of-type {\n",
       "        vertical-align: middle;\n",
       "    }\n",
       "\n",
       "    .dataframe tbody tr th {\n",
       "        vertical-align: top;\n",
       "    }\n",
       "\n",
       "    .dataframe thead th {\n",
       "        text-align: right;\n",
       "    }\n",
       "</style>\n",
       "<table border=\"1\" class=\"dataframe\">\n",
       "  <thead>\n",
       "    <tr style=\"text-align: right;\">\n",
       "      <th></th>\n",
       "      <th>sl_no</th>\n",
       "      <th>ssc_p</th>\n",
       "      <th>hsc_p</th>\n",
       "      <th>degree_p</th>\n",
       "      <th>etest_p</th>\n",
       "      <th>mba_p</th>\n",
       "      <th>salary</th>\n",
       "    </tr>\n",
       "  </thead>\n",
       "  <tbody>\n",
       "    <tr>\n",
       "      <th>sl_no</th>\n",
       "      <td>1.000000</td>\n",
       "      <td>-0.078155</td>\n",
       "      <td>-0.090500</td>\n",
       "      <td>-0.091039</td>\n",
       "      <td>0.063636</td>\n",
       "      <td>0.022327</td>\n",
       "      <td>0.001217</td>\n",
       "    </tr>\n",
       "    <tr>\n",
       "      <th>ssc_p</th>\n",
       "      <td>-0.078155</td>\n",
       "      <td>1.000000</td>\n",
       "      <td>0.513478</td>\n",
       "      <td>0.538686</td>\n",
       "      <td>0.261993</td>\n",
       "      <td>0.388478</td>\n",
       "      <td>0.558475</td>\n",
       "    </tr>\n",
       "    <tr>\n",
       "      <th>hsc_p</th>\n",
       "      <td>-0.090500</td>\n",
       "      <td>0.513478</td>\n",
       "      <td>1.000000</td>\n",
       "      <td>0.434606</td>\n",
       "      <td>0.240775</td>\n",
       "      <td>0.348452</td>\n",
       "      <td>0.459424</td>\n",
       "    </tr>\n",
       "    <tr>\n",
       "      <th>degree_p</th>\n",
       "      <td>-0.091039</td>\n",
       "      <td>0.538686</td>\n",
       "      <td>0.434606</td>\n",
       "      <td>1.000000</td>\n",
       "      <td>0.227147</td>\n",
       "      <td>0.402376</td>\n",
       "      <td>0.423762</td>\n",
       "    </tr>\n",
       "    <tr>\n",
       "      <th>etest_p</th>\n",
       "      <td>0.063636</td>\n",
       "      <td>0.261993</td>\n",
       "      <td>0.240775</td>\n",
       "      <td>0.227147</td>\n",
       "      <td>1.000000</td>\n",
       "      <td>0.218055</td>\n",
       "      <td>0.186775</td>\n",
       "    </tr>\n",
       "    <tr>\n",
       "      <th>mba_p</th>\n",
       "      <td>0.022327</td>\n",
       "      <td>0.388478</td>\n",
       "      <td>0.348452</td>\n",
       "      <td>0.402376</td>\n",
       "      <td>0.218055</td>\n",
       "      <td>1.000000</td>\n",
       "      <td>0.141417</td>\n",
       "    </tr>\n",
       "    <tr>\n",
       "      <th>salary</th>\n",
       "      <td>0.001217</td>\n",
       "      <td>0.558475</td>\n",
       "      <td>0.459424</td>\n",
       "      <td>0.423762</td>\n",
       "      <td>0.186775</td>\n",
       "      <td>0.141417</td>\n",
       "      <td>1.000000</td>\n",
       "    </tr>\n",
       "  </tbody>\n",
       "</table>\n",
       "</div>"
      ],
      "text/plain": [
       "             sl_no     ssc_p     hsc_p  degree_p   etest_p     mba_p    salary\n",
       "sl_no     1.000000 -0.078155 -0.090500 -0.091039  0.063636  0.022327  0.001217\n",
       "ssc_p    -0.078155  1.000000  0.513478  0.538686  0.261993  0.388478  0.558475\n",
       "hsc_p    -0.090500  0.513478  1.000000  0.434606  0.240775  0.348452  0.459424\n",
       "degree_p -0.091039  0.538686  0.434606  1.000000  0.227147  0.402376  0.423762\n",
       "etest_p   0.063636  0.261993  0.240775  0.227147  1.000000  0.218055  0.186775\n",
       "mba_p     0.022327  0.388478  0.348452  0.402376  0.218055  1.000000  0.141417\n",
       "salary    0.001217  0.558475  0.459424  0.423762  0.186775  0.141417  1.000000"
      ]
     },
     "execution_count": 129,
     "metadata": {},
     "output_type": "execute_result"
    }
   ],
   "source": [
    "dataset.corr(numeric_only = True)"
   ]
  },
  {
   "cell_type": "code",
   "execution_count": null,
   "id": "1a0325f7-6187-4d4b-9b51-a80c9c8499c9",
   "metadata": {},
   "outputs": [],
   "source": [
    "Correlation between salary and mba_p\n",
    "Value: 0.141417\n",
    "Type: Very weak positive correlation \n"
   ]
  },
  {
   "cell_type": "code",
   "execution_count": 131,
   "id": "7e29eb16-b2c1-4640-9d73-a60802b45268",
   "metadata": {},
   "outputs": [
    {
     "name": "stdout",
     "output_type": "stream",
     "text": [
      "The specialisation getting the minimum salary is 'Mkt&HR' with a salary of 0.0.\n"
     ]
    }
   ],
   "source": [
    "#5 min sal\n",
    "min_salary_row = dataset.loc[dataset['salary'].idxmin()]\n",
    "min_salary_specialisation = min_salary_row['specialisation']\n",
    "min_salary_value = min_salary_row['salary']\n",
    "print(f\"The specialisation getting the minimum salary is '{min_salary_specialisation}' with a salary of {min_salary_value}.\")\n"
   ]
  },
  {
   "cell_type": "code",
   "execution_count": 133,
   "id": "9fa1ae50-7851-48d5-80d7-7a368ccf6dc0",
   "metadata": {},
   "outputs": [
    {
     "name": "stdout",
     "output_type": "stream",
     "text": [
      "Number of individuals earning above 500,000 salary: 3.\n"
     ]
    }
   ],
   "source": [
    "#6 above 5,00,000\n",
    "above_500k_count = (dataset['salary'] > 500000).sum()\n",
    "print(f\"Number of individuals earning above 500,000 salary: {above_500k_count}.\")\n"
   ]
  },
  {
   "cell_type": "code",
   "execution_count": 135,
   "id": "09dbf6bc-fe76-4a40-b2b8-3480c58e5cc4",
   "metadata": {},
   "outputs": [],
   "source": [
    "from scipy.stats import ttest_ind"
   ]
  },
  {
   "cell_type": "code",
   "execution_count": 151,
   "id": "5ff06937-f548-45f9-9b53-3dfde9198a2f",
   "metadata": {},
   "outputs": [
    {
     "data": {
      "text/plain": [
       "F_onewayResult(statistic=98.64487057324706, pvalue=4.672547689133573e-21)"
      ]
     },
     "execution_count": 151,
     "metadata": {},
     "output_type": "execute_result"
    }
   ],
   "source": [
    "#7 anavo\n",
    "import scipy.stats as stats\n",
    "stats.f_oneway(dataset['etest_p'], dataset['mba_p'])"
   ]
  },
  {
   "cell_type": "code",
   "execution_count": 139,
   "id": "f9904e82-9e90-4991-8fb6-5bad7742a2f7",
   "metadata": {},
   "outputs": [
    {
     "data": {
      "text/plain": [
       "TtestResult(statistic=2.692041243555374, pvalue=0.007897969943471179, df=152.0)"
      ]
     },
     "execution_count": 139,
     "metadata": {},
     "output_type": "execute_result"
    }
   ],
   "source": [
    "#8 hypothesis\n",
    "sci_tech = dataset[dataset['degree_t'] == 'Sci&Tech']['salary']\n",
    "mkt_hr = dataset[dataset['specialisation'] == 'Mkt&HR']['salary']\n",
    "ttest_ind(sci_tech,mkt_hr)"
   ]
  },
  {
   "cell_type": "code",
   "execution_count": 141,
   "id": "1ee30de6-e4d5-499e-ad3e-976203be80ae",
   "metadata": {},
   "outputs": [],
   "source": [
    "#9 convert normal to standard distribution\n",
    "def stdNBgraph(dataset):\n",
    "        # Coverted to standard Normal Distribution\n",
    "    import seaborn as sns\n",
    "    mean=dataset.mean()\n",
    "    std=dataset.std()\n",
    "\n",
    "    values=[i for i in dataset]\n",
    "\n",
    "    z_score=[((j-mean)/std) for j in values]\n",
    "\n",
    "    sns.distplot(z_score,kde=True)\n",
    "\n",
    "    sum(z_score)/len(z_score)\n",
    "    #z_score.std()\n"
   ]
  },
  {
   "cell_type": "code",
   "execution_count": 143,
   "id": "d3d00032-26e5-4065-b5f7-2baefccb639b",
   "metadata": {},
   "outputs": [
    {
     "name": "stderr",
     "output_type": "stream",
     "text": [
      "C:\\Users\\ASUS\\AppData\\Local\\Temp\\ipykernel_11820\\2909774602.py:11: UserWarning: \n",
      "\n",
      "`distplot` is a deprecated function and will be removed in seaborn v0.14.0.\n",
      "\n",
      "Please adapt your code to use either `displot` (a figure-level function with\n",
      "similar flexibility) or `histplot` (an axes-level function for histograms).\n",
      "\n",
      "For a guide to updating your code to use the new functions, please see\n",
      "https://gist.github.com/mwaskom/de44147ed2974457ad6372750bbe5751\n",
      "\n",
      "  sns.distplot(z_score,kde=True)\n"
     ]
    },
    {
     "data": {
      "image/png": "[encoded data removed]",
      "text/plain": [
       "<Figure size 640x480 with 1 Axes>"
      ]
     },
     "metadata": {},
     "output_type": "display_data"
    }
   ],
   "source": [
    "stdNBgraph(dataset[\"salary\"])"
   ]
  },
  {
   "cell_type": "code",
   "execution_count": 145,
   "id": "502edfbc-e3cf-40f1-95af-399e20393a8d",
   "metadata": {},
   "outputs": [
    {
     "name": "stderr",
     "output_type": "stream",
     "text": [
      "C:\\Users\\ASUS\\AppData\\Local\\Temp\\ipykernel_11820\\1524379617.py:3: UserWarning: \n",
      "\n",
      "`distplot` is a deprecated function and will be removed in seaborn v0.14.0.\n",
      "\n",
      "Please adapt your code to use either `displot` (a figure-level function with\n",
      "similar flexibility) or `histplot` (an axes-level function for histograms).\n",
      "\n",
      "For a guide to updating your code to use the new functions, please see\n",
      "https://gist.github.com/mwaskom/de44147ed2974457ad6372750bbe5751\n",
      "\n",
      "  ax = sns.distplot(dataset['salary'],kde=True)\n"
     ]
    },
    {
     "data": {
      "image/png": "[encoded data removed]",
      "text/plain": [
       "<Figure size 640x480 with 1 Axes>"
      ]
     },
     "metadata": {},
     "output_type": "display_data"
    }
   ],
   "source": [
    "import seaborn as sns\n",
    "x=dataset['salary']\n",
    "ax = sns.distplot(dataset['salary'],kde=True)\n"
   ]
  },
  {
   "cell_type": "code",
   "execution_count": 147,
   "id": "0c464f05-4230-4592-ac32-f46ecb055095",
   "metadata": {},
   "outputs": [],
   "source": [
    "#10 probability density function\n",
    "def get_pdf_probability(dataset,startrange,endrange):\n",
    "    from matplotlib import pyplot\n",
    "    from scipy.stats import norm\n",
    "    import seaborn as sns\n",
    "    ax = sns.distplot(dataset,kde=True,kde_kws={'color':'blue'},color='Green')\n",
    "    pyplot.axvline(startrange,color='Red')\n",
    "    pyplot.axvline(endrange,color='Red')\n",
    "    # generate a sample\n",
    "    sample = dataset\n",
    "    # calculate parameters\n",
    "    sample_mean =sample.mean()\n",
    "    sample_std = sample.std()\n",
    "    print('Mean=%.3f, Standard Deviation=%.3f' % (sample_mean, sample_std))\n",
    "    # define the distribution\n",
    "    dist = norm(sample_mean, sample_std)\n",
    "    \n",
    "    # sample probabilities for a range of outcomes\n",
    "    values = [value for value in range(startrange, endrange)]\n",
    "    probabilities = [dist.pdf(value) for value in values]    \n",
    "    prob=sum(probabilities)\n",
    "    print(\"The area between range({},{}):{}\".format(startrange,endrange,sum(probabilities)))\n",
    "    return prob\n"
   ]
  },
  {
   "cell_type": "code",
   "execution_count": 149,
   "id": "2ee15a76-052d-4e47-bd6c-186f6962a815",
   "metadata": {},
   "outputs": [
    {
     "name": "stderr",
     "output_type": "stream",
     "text": [
      "C:\\Users\\ASUS\\AppData\\Local\\Temp\\ipykernel_11820\\1004062253.py:5: UserWarning: \n",
      "\n",
      "`distplot` is a deprecated function and will be removed in seaborn v0.14.0.\n",
      "\n",
      "Please adapt your code to use either `displot` (a figure-level function with\n",
      "similar flexibility) or `histplot` (an axes-level function for histograms).\n",
      "\n",
      "For a guide to updating your code to use the new functions, please see\n",
      "https://gist.github.com/mwaskom/de44147ed2974457ad6372750bbe5751\n",
      "\n",
      "  ax = sns.distplot(dataset,kde=True,kde_kws={'color':'blue'},color='Green')\n"
     ]
    },
    {
     "name": "stdout",
     "output_type": "stream",
     "text": [
      "Mean=197615.116, Standard Deviation=150305.844\n",
      "The area between range(700000,900000):0.0004137812663830059\n"
     ]
    },
    {
     "data": {
      "text/plain": [
       "0.0004137812663830059"
      ]
     },
     "execution_count": 149,
     "metadata": {},
     "output_type": "execute_result"
    },
    {
     "data": {
      "image/png": "[encoded data removed]",
      "text/plain": [
       "<Figure size 640x480 with 1 Axes>"
      ]
     },
     "metadata": {},
     "output_type": "display_data"
    }
   ],
   "source": [
    "get_pdf_probability(dataset['salary'],700000,900000)"
   ]
  },
  {
   "cell_type": "code",
   "execution_count": 153,
   "id": "f1df4fe9-dae0-4252-a6f9-8e43ace03e02",
   "metadata": {},
   "outputs": [
    {
     "data": {
      "text/plain": [
       "TtestResult(statistic=4.532000225151251, pvalue=1.4289217003775636e-05, df=116.0)"
      ]
     },
     "execution_count": 153,
     "metadata": {},
     "output_type": "execute_result"
    }
   ],
   "source": [
    "#11 Hypothesis testing\n",
    "sci_tech_etest = dataset[dataset['degree_t'] == 'Sci&Tech']['etest_p']\n",
    "sci_tech_mba_p = dataset[dataset['degree_t'] == 'Sci&Tech']['mba_p']\n",
    "ttest_ind(sci_tech_etest, sci_tech_mba_p)"
   ]
  },
  {
   "cell_type": "code",
   "execution_count": 155,
   "id": "dc6758e8-83df-4ea7-8a08-408cc5cfca83",
   "metadata": {},
   "outputs": [
    {
     "data": {
      "text/html": [
       "<div>\n",
       "<style scoped>\n",
       "    .dataframe tbody tr th:only-of-type {\n",
       "        vertical-align: middle;\n",
       "    }\n",
       "\n",
       "    .dataframe tbody tr th {\n",
       "        vertical-align: top;\n",
       "    }\n",
       "\n",
       "    .dataframe thead th {\n",
       "        text-align: right;\n",
       "    }\n",
       "</style>\n",
       "<table border=\"1\" class=\"dataframe\">\n",
       "  <thead>\n",
       "    <tr style=\"text-align: right;\">\n",
       "      <th></th>\n",
       "      <th>sl_no</th>\n",
       "      <th>ssc_p</th>\n",
       "      <th>hsc_p</th>\n",
       "      <th>degree_p</th>\n",
       "      <th>etest_p</th>\n",
       "      <th>mba_p</th>\n",
       "      <th>salary</th>\n",
       "    </tr>\n",
       "  </thead>\n",
       "  <tbody>\n",
       "    <tr>\n",
       "      <th>sl_no</th>\n",
       "      <td>1.000000</td>\n",
       "      <td>-0.078155</td>\n",
       "      <td>-0.090500</td>\n",
       "      <td>-0.091039</td>\n",
       "      <td>0.063636</td>\n",
       "      <td>0.022327</td>\n",
       "      <td>0.001217</td>\n",
       "    </tr>\n",
       "    <tr>\n",
       "      <th>ssc_p</th>\n",
       "      <td>-0.078155</td>\n",
       "      <td>1.000000</td>\n",
       "      <td>0.513478</td>\n",
       "      <td>0.538686</td>\n",
       "      <td>0.261993</td>\n",
       "      <td>0.388478</td>\n",
       "      <td>0.558475</td>\n",
       "    </tr>\n",
       "    <tr>\n",
       "      <th>hsc_p</th>\n",
       "      <td>-0.090500</td>\n",
       "      <td>0.513478</td>\n",
       "      <td>1.000000</td>\n",
       "      <td>0.434606</td>\n",
       "      <td>0.240775</td>\n",
       "      <td>0.348452</td>\n",
       "      <td>0.459424</td>\n",
       "    </tr>\n",
       "    <tr>\n",
       "      <th>degree_p</th>\n",
       "      <td>-0.091039</td>\n",
       "      <td>0.538686</td>\n",
       "      <td>0.434606</td>\n",
       "      <td>1.000000</td>\n",
       "      <td>0.227147</td>\n",
       "      <td>0.402376</td>\n",
       "      <td>0.423762</td>\n",
       "    </tr>\n",
       "    <tr>\n",
       "      <th>etest_p</th>\n",
       "      <td>0.063636</td>\n",
       "      <td>0.261993</td>\n",
       "      <td>0.240775</td>\n",
       "      <td>0.227147</td>\n",
       "      <td>1.000000</td>\n",
       "      <td>0.218055</td>\n",
       "      <td>0.186775</td>\n",
       "    </tr>\n",
       "    <tr>\n",
       "      <th>mba_p</th>\n",
       "      <td>0.022327</td>\n",
       "      <td>0.388478</td>\n",
       "      <td>0.348452</td>\n",
       "      <td>0.402376</td>\n",
       "      <td>0.218055</td>\n",
       "      <td>1.000000</td>\n",
       "      <td>0.141417</td>\n",
       "    </tr>\n",
       "    <tr>\n",
       "      <th>salary</th>\n",
       "      <td>0.001217</td>\n",
       "      <td>0.558475</td>\n",
       "      <td>0.459424</td>\n",
       "      <td>0.423762</td>\n",
       "      <td>0.186775</td>\n",
       "      <td>0.141417</td>\n",
       "      <td>1.000000</td>\n",
       "    </tr>\n",
       "  </tbody>\n",
       "</table>\n",
       "</div>"
      ],
      "text/plain": [
       "             sl_no     ssc_p     hsc_p  degree_p   etest_p     mba_p    salary\n",
       "sl_no     1.000000 -0.078155 -0.090500 -0.091039  0.063636  0.022327  0.001217\n",
       "ssc_p    -0.078155  1.000000  0.513478  0.538686  0.261993  0.388478  0.558475\n",
       "hsc_p    -0.090500  0.513478  1.000000  0.434606  0.240775  0.348452  0.459424\n",
       "degree_p -0.091039  0.538686  0.434606  1.000000  0.227147  0.402376  0.423762\n",
       "etest_p   0.063636  0.261993  0.240775  0.227147  1.000000  0.218055  0.186775\n",
       "mba_p     0.022327  0.388478  0.348452  0.402376  0.218055  1.000000  0.141417\n",
       "salary    0.001217  0.558475  0.459424  0.423762  0.186775  0.141417  1.000000"
      ]
     },
     "execution_count": 155,
     "metadata": {},
     "output_type": "execute_result"
    }
   ],
   "source": [
    "dataset.corr(numeric_only = True)"
   ]
  },
  {
   "cell_type": "code",
   "execution_count": null,
   "id": "82afb0da-9267-4c22-9cbf-794674a0bc61",
   "metadata": {},
   "outputs": [],
   "source": [
    "#12 highly coorelated to salary\n",
    "\n",
    "The ssc_p has the highest correlation with salary 0.558475.\n"
   ]
  }
 ],
 "metadata": {
  "kernelspec": {
   "display_name": "Python 3 (ipykernel)",
   "language": "python",
   "name": "python3"
  },
  "language_info": {
   "codemirror_mode": {
    "name": "ipython",
    "version": 3
   },
   "file_extension": ".py",
   "mimetype": "text/x-python",
   "name": "python",
   "nbconvert_exporter": "python",
   "pygments_lexer": "ipython3",
   "version": "3.12.4"
  }
 },
 "nbformat": 4,
 "nbformat_minor": 5
}
